{
 "cells": [
  {
   "cell_type": "code",
   "execution_count": null,
   "metadata": {},
   "outputs": [],
   "source": [
    "def extract_pubmed_query(answer):\n",
    "    \"\"\"\n",
    "    Extracts the PubMed query from the provided answer.\n",
    "\n",
    "    Parameters:\n",
    "        answer (str): The response containing the PubMed query in the format \n",
    "                      \"PubMed Query: <query>\".\n",
    "\n",
    "    Returns:\n",
    "        str: The extracted query string.\n",
    "    \"\"\"\n",
    "    prefix = \"PubMed Query: \"\n",
    "    if prefix in answer:\n",
    "        return answer.split(prefix, 1)[1].strip()\n",
    "    else:\n",
    "        raise ValueError(\"Invalid format: 'PubMed Query:' prefix not found.\")\n"
   ]
  },
  {
   "cell_type": "code",
   "execution_count": null,
   "metadata": {},
   "outputs": [],
   "source": [
    "import openai\n",
    "\n",
    "question = \"\" #question asked by the user of the chatbot\n",
    "\n",
    "openai.api_key = ''\n",
    "model = \"gpt-4o-mini\"\n",
    "seed = 42\n",
    "\n",
    "prompt = \"Your task is to convert the following sentence into a PubMed query. Your answer should be in the format 'PubMed Query:' followed the converted query. Here is the sentence:\"+question\n",
    "messages = [{\"role\": \"system\", \"content\": \"You are a helpful assistant.\"}, {\"role\": \"user\",\"content\": prompt}]\n",
    "\n",
    "completion = openai.ChatCompletion.create(model=model, messages=messages, seed = seed)\n",
    "query = extract_pubmed_query((completion.choices[0].message)['content'])\n",
    "messages.append(completion['choices'][0]['message'])\n"
   ]
  },
  {
   "cell_type": "code",
   "execution_count": 14,
   "metadata": {},
   "outputs": [],
   "source": [
    "\n",
    "from pymed import PubMed\n",
    "pubmed = PubMed(tool=\"MyTool\", email=\"my@email.address\")\n",
    "results = pubmed.query(\"COVID-19 AND vaccine AND efficacy\", max_results=10)"
   ]
  },
  {
   "cell_type": "code",
   "execution_count": 15,
   "metadata": {},
   "outputs": [
    {
     "name": "stdout",
     "output_type": "stream",
     "text": [
      "2024-11-24 - A randomized trial comparing safety, immunogenicity and efficacy of self-amplifying mRNA and adenovirus-vector COVID-19 vaccines.\n",
      "This phase 3 trial compared safety, tolerability, immunogenicity and efficacy of the self-amplifying mRNA COVID-19 vaccine, ARCT-154, with ChAdOx1-S adenovirus-vector vaccine. In four centers in Vietnam adult participants aged 18‒85 years were randomly assigned to receive two doses, 28 days apart, of either ARCT-154 (n = 1186) or ChAdOx1-S (n = 1180). Both vaccines were well tolerated with similar safety and reactogenicity profiles consisting of mainly mild-to-moderate solicited adverse events and few related serious adverse events. Higher neutralizing antibody responses persisting to one-year post-vaccination after ARCT-154 compared with ChAdOx1-S were associated with a generally higher efficacy against COVID-19. In an exploratory analysis relative vaccine efficacy of ARCT-154 vs. ChAdOx1-S against any COVID-19 from Day 36 to Day 394 was 19.8% (95% CI: 4.0-33.0). Self-amplifying mRNA vaccine offers potential immunological advantages in terms of immunogenicity and efficacy over adenovirus-vector vaccine without compromising safety.\n",
      "\n",
      "2024-11-23 - Optimization of the activity and biodegradability of ionizable lipids for mRNA delivery via directed chemical evolution.\n",
      "Ionizable lipids largely determine the biocompatibility of lipid nanoparticles (LNPs) and the efficacy for mRNA delivery. Rational design and combinatorial synthesis have led to the development of potent and biodegradable ionizable lipids, yet methodologies for the stepwise optimization of ionizable lipid structure are lacking. Here we show that iterative chemical derivatization and combinatorial chemistry, and in particular the amine-aldehyde-alkyne coupling reaction, can be leveraged to iteratively accelerate the structural optimization of propargylamine-based ionizable lipids (named A\n",
      "\n",
      "2024-11-22 - Safety, efficacy, and immunogenicity of SARS-CoV-2 mRNA vaccination in children and adult patients with rheumatic diseases: a comprehensive literature review.\n",
      "Patients with autoimmune inflammatory rheumatic diseases (AIIRD) are potentially at a higher risk of contracting the SARS-CoV-2 virus and have poorer outcomes of the infection as a result of their immunocompromised state due to the nature of the underlying autoimmune conditions and immunosuppressant use. mRNA-based vaccines provide a novel approach to establishing immunity against SARS-CoV-2. However, the implications of toll-like receptors (TLRs), type I interferon (IFN) and pro-inflammatory cytokines raise concerns on disease severity and inefficient immune response following mRNA vaccination. The use of immunosuppression to reduce disease activity may have consequential implications on immune responses following SARS-CoV-2 mRNA vaccination. This study systematically reviews the literature on the safety, efficacy, and immunogenicity of SARS-CoV-2 vaccination in patients with autoimmune rheumatic conditions. This comprehensive review was conducted in accordance with the guidelines of the Preferred Reporting Items for Systematic Reviews and Meta-Analyses (PRISMA). A comprehensive literature search on \"PubMed\" and \"EMBASE\" electronic databases was conducted to identify relevant articles published from January 1, 2020 to August 31, 2023. The search yielded 106 studies. The mRNA-based vaccines were demonstrated to be safe and efficacious in AIIRD patients. Most studies investigating safety and efficacy of the mRNA-based vaccines reported low frequencies of serious adverse events and disease flares and few breakthrough infections after complete vaccination. Immunogenic response, however, appeared to be blunted in this population of patients, particularly in those who received certain immunosuppressive agents such as methotrexate, mycophenolic acid and rituximab. mRNA-based vaccines are generally safe and efficacious and produce adequate humoral response in AIIRD patients. Additional prospective studies are warranted to ascertain the long-term safety and efficacy profile and the duration of mRNA-vaccine induced immune response. This can aid in shaping guidelines surrounding optimal timing for booster doses in AIIRD patients.\n",
      "\n",
      "2024-11-22 - Nanoparticle-Supported, Rapid, Digital Quantification of Neutralizing Antibodies Against SARS-CoV-2 Variants.\n",
      "The measurement of neutralizing immune responses to viral infection is essential, given the heterogeneity of human immunity and the emergence of new virus strains. However, neutralizing antibody (nAb) assays often require high-level biosafety containment, sophisticated instrumentation, and long detection times. Here, as a proof-of-principle, we designed a nanoparticle-supported, rapid, electronic detection (NasRED) assay to assess the neutralizing potency of monoclonal antibodies (mAbs) against SARS-CoV-2. The gold nanoparticles (AuNPs) coated with human angiotensin-converting enzyme 2 (ACE2) protein as nAb potency reporters were mixed with the mAbs to be tested, as well as streptavidin-conjugated multivalent spike (S) protein or their receptor binding domains (RBD). High-affinity and ACE2-competitive nAbs alter the S (or RBD)-to-ACE2 binding level and modulate AuNP cluster formation and precipitation. The amount of free-floating AuNP reporters is quantified by a semiconductor-based readout system that measures the AuNPs' optical extinction, producing nAb signals that can differentiate SARS-CoV-2 variants (Wuhan-Hu-1, Gamma, and Omicron). The modular design nature, short assay time (less than 30 minutes), and portable and inexpensive readout system make this NasRED-nAb assay applicable to measuring vaccine potency, immune responses to infection, and the efficacy of antibody-based therapies.\n",
      "\n",
      "2024-11-22 - Effectiveness of bivalent mRNA booster vaccination and previous infection in older adults during Omicron period: real-world evidence.\n",
      "The effectiveness of booster bivalent vaccines against the Omicron variant, particularly amongst older patients, remains uncertain.\n",
      "We sought to compare the relative effectiveness of a fourth dose of vaccine using bivalent messenger ribonucleic acid (mRNA), by comparing patients who had and had not received this dose.\n",
      "We conducted a matched retrospective cohort study to assess the risk of COVID-19 infection, hospitalization and death of people aged >60 years with four doses as compared to those with only three doses. Cox proportional hazard regression models were used to estimate adjusted hazard ratios (HRs) with 95% confidence intervals (CIs). We adjusted by age, sex, nursing-home, comorbidities, primary care setting and previous episodes of severe acute respiratory syndrome coronavirus 2 (SARS-CoV-2) infections. We also investigated the impact of prior SARS-CoV-2 infection within each cohort, using the same methodology.\n",
      "The administration of a fourth bivalent mRNA vaccine dose conferred significant additional protection against COVID-19 infection (HR: 0.479; 95% CI: 0.454-0.506), hospitalization (HR: 0.393; 95% CI: 0.348-0.443) and 30-day mortality (HR: 0.234; 95% CI: 0.171-0.318), as compared to individuals who had received only a third monovalent vaccine dose. In both cohorts, a prior history of COVID-19 infection involves lower risk of COVID-infection, hospitalization and death.\n",
      "During the period of Omicron predominance, receiving a bivalent booster vaccine as a fourth dose, as compared to receiving only three doses of a monovalent mRNA vaccine, provides significant extra protection against COVID-19 infection, hospitalization and mortality. Antecedents of SARS-CoV-2 prior to vaccination involves a notable reduction in the above COVID-19 outcomes.\n",
      "\n",
      "2024-11-21 - Bias and negative values of COVID-19 vaccine effectiveness estimates from a test-negative design without controlling for prior SARS-CoV-2 infection.\n",
      "Test-negative designs (TNDs) are used to assess vaccine effectiveness (VE). Protection from infection-induced immunity may confound the association between case and vaccination status, but collecting reliable infection history can be challenging. If vaccinated individuals have less infection-induced protection than unvaccinated individuals, failure to account for infection history could underestimate VE, though the bias is not well understood. We simulated individual-level SARS-CoV-2 infection and COVID-19 vaccination histories and a TND. VE against symptomatic infection and VE against severe disease estimates unadjusted for infection history underestimated VE compared to estimates adjusted for infection history, and unadjusted estimates were more likely to be below 0%, which could lead to an incorrect interpretation that COVID-19 vaccines are harmful. TNDs assessing VE immediately following vaccine rollout introduced the largest bias and potential for negative VE against symptomatic infection. Despite the potential for bias, VE estimates from TNDs without prior infection information are useful because underestimation is rarely more than 8 percentage points.\n",
      "\n",
      "2024-11-21 - Quantifying the prevalence and determinants of respiratory syncytial virus (RSV) vaccine hesitancy in US adults aged 60 or older.\n",
      "Federal regulators recently authorised two vaccines designed to prevent infection with respiratory syncytial virus (RSV) for adults aged 60 or older. While some efforts have been made to study vaccine uptake thus far, few have studied this group's intentions to vaccinate, as well as potential barriers to vaccination. This omission is noteworthy as adults aged 60 or older may be at an increased risk of experiencing severe complications from RSV infection.\n",
      "We fielded a nationally representative survey of 1200 US adults (n = 362 aged 60+). Respondents aged 60 or older were asked a series of questions about their willingness to receive an RSV vaccine, vaccine safety, and efficacy attitudes, and their knowledge about vaccination eligibility.\n",
      "We find that a majority of seniors (53%) intend to refuse an RSV vaccine. As of late fall 2023, just 14% of those eligible had already received an RSV vaccine. Multivariate regression models suggest that belief in the safety and efficacy of the RSV vaccine, as well as previous flu and COVID-19 vaccine uptake, are associated with increased RSV vaccination intentions.\n",
      "We document high levels of RSV vaccine hesitancy among adults aged 60 or older and show that negative vaccine attitudes and non-vaccination behaviors motivate RSV vaccine refusal. Our work thereby raises the possibility that efforts to communicate the safety and efficacy of RSV vaccination may have beneficial effects on RSV vaccine uptake.\n",
      "\n",
      "2024-11-20 - Screening of Natural Compounds as Inhibitor of Mpro SARS-CoV-2 Protein; A Molecular Dynamics Approach.\n",
      "New strains of SARS-CoV-2 are continually emerging worldwide. Recently, WHO warned of a severe new wave in Europe. Current vaccines cannot fully prevent reinfection in vaccinated individuals.\n",
      "Given this issue, recent research focuses on new antiviral candidates with high efficacy and minimal side effects.\n",
      "Screen natural compounds as inhibitors of Mpro SARS-CoV-2 protein using molecular dynamics.\n",
      "In this study, we have screened the potential of plant-based natural anti-viral compounds. A library of the 579 compounds was generated using currently available literature and online databases. All these compounds were screened based on their binding affinities as predicted by molecular docking analysis and compounds having binding affinity values ≤ -10 Kcal/mol were considered for analysis. Furthermore, from physicochemical assessment, drug-likeness initially nine compounds were identified as the antiviral targets for the selected viral proteins. After ADMET analysis and simulations, the compound 9064 with the lowest RMSD, Coul-SR interaction energy (-71.53 kJ/mol), and LJ-SR energy (-95.32 kJ/mol) was selected as the most stable drug candidate against COVID-19 main protease Mpro.\n",
      "The ΔG value, calculated using MMGBSA also revealed strong binding of the compound with Mpro. The selected antiviral compound 9064 is an antioxidant flavonoid (Catechin or Cianidanol), which was previously known to have significant immunomodulatory, anti-inflammatory, and antioxidant properties.\n",
      "Considering the limitations of currently available vaccines, our study may provide new insight into potential drugs that may prevent SARS-CoV-2 infection in humans.\n",
      "\n",
      "2024-11-20 - Intranasal delivery of a subunit protein vaccine provides protective immunity against JN.1 and XBB-lineage variants.\n",
      "The mucosal immune response plays a crucial role in the prevention of respiratory viruses. Given the risk of recurrent SARS-CoV-2 infections in the population, the rapid development of next-generation intranasal COVID-19 vaccines with high safety and efficacy is paramount. In the current study, we developed a protein-based intranasal vaccine comprising the XBB.1.5 receptor binding domain (RBD)-derived trimeric recombinant protein (RBD\n",
      "\n",
      "2024-11-20 - A trivalent mucosal vaccine encoding phylogenetically inferred ancestral RBD sequences confers pan-Sarbecovirus protection in mice.\n",
      "The continued emergence of SARS-CoV-2 variants and the threat of future Sarbecovirus zoonoses have spurred the design of vaccines that can induce broad immunity against multiple coronaviruses. Here, we use computational methods to infer ancestral phylogenetic reconstructions of receptor binding domain (RBD) sequences across multiple Sarbecovirus clades and incorporate them into a multivalent adenoviral-vectored vaccine. Mice immunized with this pan-Sarbecovirus vaccine are protected in the upper and lower respiratory tracts against infection by historical and contemporary SARS-CoV-2 variants, SARS-CoV, and pre-emergent SHC014 and Pangolin/GD coronavirus strains. Using genetic and immunological approaches, we demonstrate that vaccine-induced protection unexpectedly is conferred principally by CD4\n",
      "\n"
     ]
    }
   ],
   "source": [
    "for i, article in enumerate(results):\n",
    "\n",
    "    # Extract and format information from the article\n",
    "    article_id = article.pubmed_id\n",
    "    title = article.title\n",
    "    if article.keywords:\n",
    "        if None in article.keywords:\n",
    "            article.keywords.remove(None)\n",
    "        keywords = '\", \"'.join(article.keywords)\n",
    "    publication_date = article.publication_date\n",
    "    abstract = article.abstract\n",
    "\n",
    "    # Show information about the article\n",
    "    #print(article_id)\n",
    "    print(f'{publication_date} - {title}\\n{abstract}\\n')"
   ]
  },
  {
   "cell_type": "code",
   "execution_count": 11,
   "metadata": {},
   "outputs": [
    {
     "name": "stdout",
     "output_type": "stream",
     "text": [
      "39556583\n",
      "33100480\n",
      "32868990\n",
      "35273403\n",
      "32663117\n",
      "34173524\n",
      "3378902\n",
      "299611\n",
      "35270408\n",
      "27914867\n",
      "28248621\n",
      "31266661\n",
      "32417141\n",
      "32540840\n",
      "34147252\n",
      "33611755\n",
      "32653274\n",
      "Sarbecovirus\", \"T cell\", \"antibody\", \"cellular immunity\", \"coronavirus\", \"immunity\", \"mucosal\", \"phylogenetic\", \"vaccine\", \"viral vector\n"
     ]
    }
   ],
   "source": [
    "print(article_id)\n",
    "print(keywords)"
   ]
  }
 ],
 "metadata": {
  "kernelspec": {
   "display_name": "dpt",
   "language": "python",
   "name": "python3"
  },
  "language_info": {
   "codemirror_mode": {
    "name": "ipython",
    "version": 3
   },
   "file_extension": ".py",
   "mimetype": "text/x-python",
   "name": "python",
   "nbconvert_exporter": "python",
   "pygments_lexer": "ipython3",
   "version": "3.9.15"
  }
 },
 "nbformat": 4,
 "nbformat_minor": 2
}
